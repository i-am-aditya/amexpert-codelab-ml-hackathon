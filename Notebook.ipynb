{
 "cells": [
  {
   "cell_type": "markdown",
   "id": "60e61306",
   "metadata": {},
   "source": [
    "# Credit Card Default Risk  \n",
    "  \n",
    "\n",
    "\n",
    "\n",
    "\n",
    "Problem Statement - To build a Machine Learning (ML) model that can predict if there will be credit card default.  "
   ]
  },
  {
   "cell_type": "code",
   "execution_count": 1,
   "id": "6a6c7b2d",
   "metadata": {},
   "outputs": [],
   "source": [
    "# Importing Packages\n",
    "import pandas as pd\n",
    "import numpy as np\n",
    "import seaborn as sns\n",
    "import matplotlib.pyplot as plt\n",
    "from sklearn.preprocessing import LabelEncoder, MinMaxScaler\n",
    "from sklearn.model_selection import train_test_split\n",
    "from sklearn.linear_model import LogisticRegression\n",
    "from sklearn.ensemble import RandomForestClassifier, GradientBoostingClassifier\n",
    "from sklearn.metrics import f1_score, classification_report, make_scorer\n",
    "\n",
    "\n",
    "# Suppress all Warnings\n",
    "import warnings\n",
    "warnings.filterwarnings(\"ignore\")"
   ]
  },
  {
   "cell_type": "code",
   "execution_count": 2,
   "id": "2ab8487d",
   "metadata": {},
   "outputs": [
    {
     "data": {
      "text/html": [
       "<div>\n",
       "<style scoped>\n",
       "    .dataframe tbody tr th:only-of-type {\n",
       "        vertical-align: middle;\n",
       "    }\n",
       "\n",
       "    .dataframe tbody tr th {\n",
       "        vertical-align: top;\n",
       "    }\n",
       "\n",
       "    .dataframe thead th {\n",
       "        text-align: right;\n",
       "    }\n",
       "</style>\n",
       "<table border=\"1\" class=\"dataframe\">\n",
       "  <thead>\n",
       "    <tr style=\"text-align: right;\">\n",
       "      <th></th>\n",
       "      <th>customer_id</th>\n",
       "      <th>name</th>\n",
       "      <th>age</th>\n",
       "      <th>gender</th>\n",
       "      <th>owns_car</th>\n",
       "      <th>owns_house</th>\n",
       "      <th>no_of_children</th>\n",
       "      <th>net_yearly_income</th>\n",
       "      <th>no_of_days_employed</th>\n",
       "      <th>occupation_type</th>\n",
       "      <th>total_family_members</th>\n",
       "      <th>migrant_worker</th>\n",
       "      <th>yearly_debt_payments</th>\n",
       "      <th>credit_limit</th>\n",
       "      <th>credit_limit_used(%)</th>\n",
       "      <th>credit_score</th>\n",
       "      <th>prev_defaults</th>\n",
       "      <th>default_in_last_6months</th>\n",
       "      <th>credit_card_default</th>\n",
       "    </tr>\n",
       "  </thead>\n",
       "  <tbody>\n",
       "    <tr>\n",
       "      <th>0</th>\n",
       "      <td>CST_115179</td>\n",
       "      <td>ita Bose</td>\n",
       "      <td>46</td>\n",
       "      <td>F</td>\n",
       "      <td>N</td>\n",
       "      <td>Y</td>\n",
       "      <td>0.0</td>\n",
       "      <td>107934.04</td>\n",
       "      <td>612.0</td>\n",
       "      <td>Unknown</td>\n",
       "      <td>1.0</td>\n",
       "      <td>1.0</td>\n",
       "      <td>33070.28</td>\n",
       "      <td>18690.93</td>\n",
       "      <td>73</td>\n",
       "      <td>544.0</td>\n",
       "      <td>2</td>\n",
       "      <td>1</td>\n",
       "      <td>1</td>\n",
       "    </tr>\n",
       "    <tr>\n",
       "      <th>1</th>\n",
       "      <td>CST_121920</td>\n",
       "      <td>Alper Jonathan</td>\n",
       "      <td>29</td>\n",
       "      <td>M</td>\n",
       "      <td>N</td>\n",
       "      <td>Y</td>\n",
       "      <td>0.0</td>\n",
       "      <td>109862.62</td>\n",
       "      <td>2771.0</td>\n",
       "      <td>Laborers</td>\n",
       "      <td>2.0</td>\n",
       "      <td>0.0</td>\n",
       "      <td>15329.53</td>\n",
       "      <td>37745.19</td>\n",
       "      <td>52</td>\n",
       "      <td>857.0</td>\n",
       "      <td>0</td>\n",
       "      <td>0</td>\n",
       "      <td>0</td>\n",
       "    </tr>\n",
       "    <tr>\n",
       "      <th>2</th>\n",
       "      <td>CST_109330</td>\n",
       "      <td>Umesh Desai</td>\n",
       "      <td>37</td>\n",
       "      <td>M</td>\n",
       "      <td>N</td>\n",
       "      <td>Y</td>\n",
       "      <td>0.0</td>\n",
       "      <td>230153.17</td>\n",
       "      <td>204.0</td>\n",
       "      <td>Laborers</td>\n",
       "      <td>2.0</td>\n",
       "      <td>0.0</td>\n",
       "      <td>48416.60</td>\n",
       "      <td>41598.36</td>\n",
       "      <td>43</td>\n",
       "      <td>650.0</td>\n",
       "      <td>0</td>\n",
       "      <td>0</td>\n",
       "      <td>0</td>\n",
       "    </tr>\n",
       "    <tr>\n",
       "      <th>3</th>\n",
       "      <td>CST_128288</td>\n",
       "      <td>Rie</td>\n",
       "      <td>39</td>\n",
       "      <td>F</td>\n",
       "      <td>N</td>\n",
       "      <td>Y</td>\n",
       "      <td>0.0</td>\n",
       "      <td>122325.82</td>\n",
       "      <td>11941.0</td>\n",
       "      <td>Core staff</td>\n",
       "      <td>2.0</td>\n",
       "      <td>0.0</td>\n",
       "      <td>22574.36</td>\n",
       "      <td>32627.76</td>\n",
       "      <td>20</td>\n",
       "      <td>754.0</td>\n",
       "      <td>0</td>\n",
       "      <td>0</td>\n",
       "      <td>0</td>\n",
       "    </tr>\n",
       "    <tr>\n",
       "      <th>4</th>\n",
       "      <td>CST_151355</td>\n",
       "      <td>McCool</td>\n",
       "      <td>46</td>\n",
       "      <td>M</td>\n",
       "      <td>Y</td>\n",
       "      <td>Y</td>\n",
       "      <td>0.0</td>\n",
       "      <td>387286.00</td>\n",
       "      <td>1459.0</td>\n",
       "      <td>Core staff</td>\n",
       "      <td>1.0</td>\n",
       "      <td>0.0</td>\n",
       "      <td>38282.95</td>\n",
       "      <td>52950.64</td>\n",
       "      <td>75</td>\n",
       "      <td>927.0</td>\n",
       "      <td>0</td>\n",
       "      <td>0</td>\n",
       "      <td>0</td>\n",
       "    </tr>\n",
       "  </tbody>\n",
       "</table>\n",
       "</div>"
      ],
      "text/plain": [
       "  customer_id            name  age gender owns_car owns_house  no_of_children  \\\n",
       "0  CST_115179        ita Bose   46      F        N          Y             0.0   \n",
       "1  CST_121920  Alper Jonathan   29      M        N          Y             0.0   \n",
       "2  CST_109330     Umesh Desai   37      M        N          Y             0.0   \n",
       "3  CST_128288             Rie   39      F        N          Y             0.0   \n",
       "4  CST_151355          McCool   46      M        Y          Y             0.0   \n",
       "\n",
       "   net_yearly_income  no_of_days_employed occupation_type  \\\n",
       "0          107934.04                612.0         Unknown   \n",
       "1          109862.62               2771.0        Laborers   \n",
       "2          230153.17                204.0        Laborers   \n",
       "3          122325.82              11941.0      Core staff   \n",
       "4          387286.00               1459.0      Core staff   \n",
       "\n",
       "   total_family_members  migrant_worker  yearly_debt_payments  credit_limit  \\\n",
       "0                   1.0             1.0              33070.28      18690.93   \n",
       "1                   2.0             0.0              15329.53      37745.19   \n",
       "2                   2.0             0.0              48416.60      41598.36   \n",
       "3                   2.0             0.0              22574.36      32627.76   \n",
       "4                   1.0             0.0              38282.95      52950.64   \n",
       "\n",
       "   credit_limit_used(%)  credit_score  prev_defaults  default_in_last_6months  \\\n",
       "0                    73         544.0              2                        1   \n",
       "1                    52         857.0              0                        0   \n",
       "2                    43         650.0              0                        0   \n",
       "3                    20         754.0              0                        0   \n",
       "4                    75         927.0              0                        0   \n",
       "\n",
       "   credit_card_default  \n",
       "0                    1  \n",
       "1                    0  \n",
       "2                    0  \n",
       "3                    0  \n",
       "4                    0  "
      ]
     },
     "execution_count": 2,
     "metadata": {},
     "output_type": "execute_result"
    }
   ],
   "source": [
    "# Importing training dataset\n",
    "train_data = pd.read_csv(\"dataset/train.csv\")\n",
    "# Importing test dataset\n",
    "test_data = pd.read_csv(\"dataset/test.csv\")\n",
    "# Copying the customer_id column of test data for final submission\n",
    "test_df = test_data['customer_id'].copy()\n",
    "# Printing the first 5 rows of the train data to get an overview\n",
    "train_data.head()"
   ]
  },
  {
   "cell_type": "code",
   "execution_count": 3,
   "id": "fedae655",
   "metadata": {},
   "outputs": [
    {
     "data": {
      "text/html": [
       "<div>\n",
       "<style scoped>\n",
       "    .dataframe tbody tr th:only-of-type {\n",
       "        vertical-align: middle;\n",
       "    }\n",
       "\n",
       "    .dataframe tbody tr th {\n",
       "        vertical-align: top;\n",
       "    }\n",
       "\n",
       "    .dataframe thead th {\n",
       "        text-align: right;\n",
       "    }\n",
       "</style>\n",
       "<table border=\"1\" class=\"dataframe\">\n",
       "  <thead>\n",
       "    <tr style=\"text-align: right;\">\n",
       "      <th></th>\n",
       "      <th>age</th>\n",
       "      <th>no_of_children</th>\n",
       "      <th>net_yearly_income</th>\n",
       "      <th>no_of_days_employed</th>\n",
       "      <th>total_family_members</th>\n",
       "      <th>migrant_worker</th>\n",
       "      <th>yearly_debt_payments</th>\n",
       "      <th>credit_limit</th>\n",
       "      <th>credit_limit_used(%)</th>\n",
       "      <th>credit_score</th>\n",
       "      <th>prev_defaults</th>\n",
       "      <th>default_in_last_6months</th>\n",
       "      <th>credit_card_default</th>\n",
       "    </tr>\n",
       "  </thead>\n",
       "  <tbody>\n",
       "    <tr>\n",
       "      <th>count</th>\n",
       "      <td>45528.000000</td>\n",
       "      <td>44754.000000</td>\n",
       "      <td>4.552800e+04</td>\n",
       "      <td>45065.000000</td>\n",
       "      <td>45445.000000</td>\n",
       "      <td>45441.000000</td>\n",
       "      <td>45433.000000</td>\n",
       "      <td>4.552800e+04</td>\n",
       "      <td>45528.00000</td>\n",
       "      <td>45520.000000</td>\n",
       "      <td>45528.000000</td>\n",
       "      <td>45528.000000</td>\n",
       "      <td>45528.000000</td>\n",
       "    </tr>\n",
       "    <tr>\n",
       "      <th>mean</th>\n",
       "      <td>38.993411</td>\n",
       "      <td>0.420655</td>\n",
       "      <td>2.006556e+05</td>\n",
       "      <td>67609.289293</td>\n",
       "      <td>2.158081</td>\n",
       "      <td>0.179111</td>\n",
       "      <td>31796.965311</td>\n",
       "      <td>4.354842e+04</td>\n",
       "      <td>52.23502</td>\n",
       "      <td>782.791257</td>\n",
       "      <td>0.060710</td>\n",
       "      <td>0.050540</td>\n",
       "      <td>0.081203</td>\n",
       "    </tr>\n",
       "    <tr>\n",
       "      <th>std</th>\n",
       "      <td>9.543990</td>\n",
       "      <td>0.724097</td>\n",
       "      <td>6.690740e+05</td>\n",
       "      <td>139323.524434</td>\n",
       "      <td>0.911572</td>\n",
       "      <td>0.383450</td>\n",
       "      <td>17269.727234</td>\n",
       "      <td>1.487847e+05</td>\n",
       "      <td>29.37691</td>\n",
       "      <td>100.619746</td>\n",
       "      <td>0.264629</td>\n",
       "      <td>0.219059</td>\n",
       "      <td>0.273149</td>\n",
       "    </tr>\n",
       "    <tr>\n",
       "      <th>min</th>\n",
       "      <td>23.000000</td>\n",
       "      <td>0.000000</td>\n",
       "      <td>2.717061e+04</td>\n",
       "      <td>2.000000</td>\n",
       "      <td>1.000000</td>\n",
       "      <td>0.000000</td>\n",
       "      <td>2237.470000</td>\n",
       "      <td>4.003140e+03</td>\n",
       "      <td>0.00000</td>\n",
       "      <td>500.000000</td>\n",
       "      <td>0.000000</td>\n",
       "      <td>0.000000</td>\n",
       "      <td>0.000000</td>\n",
       "    </tr>\n",
       "    <tr>\n",
       "      <th>25%</th>\n",
       "      <td>31.000000</td>\n",
       "      <td>0.000000</td>\n",
       "      <td>1.263458e+05</td>\n",
       "      <td>936.000000</td>\n",
       "      <td>2.000000</td>\n",
       "      <td>0.000000</td>\n",
       "      <td>19231.140000</td>\n",
       "      <td>2.397381e+04</td>\n",
       "      <td>27.00000</td>\n",
       "      <td>704.000000</td>\n",
       "      <td>0.000000</td>\n",
       "      <td>0.000000</td>\n",
       "      <td>0.000000</td>\n",
       "    </tr>\n",
       "    <tr>\n",
       "      <th>50%</th>\n",
       "      <td>39.000000</td>\n",
       "      <td>0.000000</td>\n",
       "      <td>1.717149e+05</td>\n",
       "      <td>2224.000000</td>\n",
       "      <td>2.000000</td>\n",
       "      <td>0.000000</td>\n",
       "      <td>29081.650000</td>\n",
       "      <td>3.568804e+04</td>\n",
       "      <td>54.00000</td>\n",
       "      <td>786.000000</td>\n",
       "      <td>0.000000</td>\n",
       "      <td>0.000000</td>\n",
       "      <td>0.000000</td>\n",
       "    </tr>\n",
       "    <tr>\n",
       "      <th>75%</th>\n",
       "      <td>47.000000</td>\n",
       "      <td>1.000000</td>\n",
       "      <td>2.406038e+05</td>\n",
       "      <td>5817.000000</td>\n",
       "      <td>3.000000</td>\n",
       "      <td>0.000000</td>\n",
       "      <td>40561.150000</td>\n",
       "      <td>5.343576e+04</td>\n",
       "      <td>78.00000</td>\n",
       "      <td>867.000000</td>\n",
       "      <td>0.000000</td>\n",
       "      <td>0.000000</td>\n",
       "      <td>0.000000</td>\n",
       "    </tr>\n",
       "    <tr>\n",
       "      <th>max</th>\n",
       "      <td>55.000000</td>\n",
       "      <td>9.000000</td>\n",
       "      <td>1.407590e+08</td>\n",
       "      <td>365252.000000</td>\n",
       "      <td>10.000000</td>\n",
       "      <td>1.000000</td>\n",
       "      <td>328112.860000</td>\n",
       "      <td>3.112997e+07</td>\n",
       "      <td>99.00000</td>\n",
       "      <td>949.000000</td>\n",
       "      <td>2.000000</td>\n",
       "      <td>1.000000</td>\n",
       "      <td>1.000000</td>\n",
       "    </tr>\n",
       "  </tbody>\n",
       "</table>\n",
       "</div>"
      ],
      "text/plain": [
       "                age  no_of_children  net_yearly_income  no_of_days_employed  \\\n",
       "count  45528.000000    44754.000000       4.552800e+04         45065.000000   \n",
       "mean      38.993411        0.420655       2.006556e+05         67609.289293   \n",
       "std        9.543990        0.724097       6.690740e+05        139323.524434   \n",
       "min       23.000000        0.000000       2.717061e+04             2.000000   \n",
       "25%       31.000000        0.000000       1.263458e+05           936.000000   \n",
       "50%       39.000000        0.000000       1.717149e+05          2224.000000   \n",
       "75%       47.000000        1.000000       2.406038e+05          5817.000000   \n",
       "max       55.000000        9.000000       1.407590e+08        365252.000000   \n",
       "\n",
       "       total_family_members  migrant_worker  yearly_debt_payments  \\\n",
       "count          45445.000000    45441.000000          45433.000000   \n",
       "mean               2.158081        0.179111          31796.965311   \n",
       "std                0.911572        0.383450          17269.727234   \n",
       "min                1.000000        0.000000           2237.470000   \n",
       "25%                2.000000        0.000000          19231.140000   \n",
       "50%                2.000000        0.000000          29081.650000   \n",
       "75%                3.000000        0.000000          40561.150000   \n",
       "max               10.000000        1.000000         328112.860000   \n",
       "\n",
       "       credit_limit  credit_limit_used(%)  credit_score  prev_defaults  \\\n",
       "count  4.552800e+04           45528.00000  45520.000000   45528.000000   \n",
       "mean   4.354842e+04              52.23502    782.791257       0.060710   \n",
       "std    1.487847e+05              29.37691    100.619746       0.264629   \n",
       "min    4.003140e+03               0.00000    500.000000       0.000000   \n",
       "25%    2.397381e+04              27.00000    704.000000       0.000000   \n",
       "50%    3.568804e+04              54.00000    786.000000       0.000000   \n",
       "75%    5.343576e+04              78.00000    867.000000       0.000000   \n",
       "max    3.112997e+07              99.00000    949.000000       2.000000   \n",
       "\n",
       "       default_in_last_6months  credit_card_default  \n",
       "count             45528.000000         45528.000000  \n",
       "mean                  0.050540             0.081203  \n",
       "std                   0.219059             0.273149  \n",
       "min                   0.000000             0.000000  \n",
       "25%                   0.000000             0.000000  \n",
       "50%                   0.000000             0.000000  \n",
       "75%                   0.000000             0.000000  \n",
       "max                   1.000000             1.000000  "
      ]
     },
     "execution_count": 3,
     "metadata": {},
     "output_type": "execute_result"
    }
   ],
   "source": [
    "# Train data stats\n",
    "train_data.describe()"
   ]
  },
  {
   "cell_type": "code",
   "execution_count": 4,
   "id": "07f515e3",
   "metadata": {},
   "outputs": [
    {
     "data": {
      "text/plain": [
       "customer_id                  0\n",
       "name                         0\n",
       "age                          0\n",
       "gender                       0\n",
       "owns_car                   547\n",
       "owns_house                   0\n",
       "no_of_children             774\n",
       "net_yearly_income            0\n",
       "no_of_days_employed        463\n",
       "occupation_type              0\n",
       "total_family_members        83\n",
       "migrant_worker              87\n",
       "yearly_debt_payments        95\n",
       "credit_limit                 0\n",
       "credit_limit_used(%)         0\n",
       "credit_score                 8\n",
       "prev_defaults                0\n",
       "default_in_last_6months      0\n",
       "credit_card_default          0\n",
       "dtype: int64"
      ]
     },
     "execution_count": 4,
     "metadata": {},
     "output_type": "execute_result"
    }
   ],
   "source": [
    "# Checking the columns containing null values\n",
    "train_data.isnull().sum()"
   ]
  },
  {
   "cell_type": "code",
   "execution_count": 5,
   "id": "489656f5",
   "metadata": {},
   "outputs": [
    {
     "name": "stdout",
     "output_type": "stream",
     "text": [
      "<class 'pandas.core.frame.DataFrame'>\n",
      "RangeIndex: 45528 entries, 0 to 45527\n",
      "Data columns (total 19 columns):\n",
      " #   Column                   Non-Null Count  Dtype  \n",
      "---  ------                   --------------  -----  \n",
      " 0   customer_id              45528 non-null  object \n",
      " 1   name                     45528 non-null  object \n",
      " 2   age                      45528 non-null  int64  \n",
      " 3   gender                   45528 non-null  object \n",
      " 4   owns_car                 44981 non-null  object \n",
      " 5   owns_house               45528 non-null  object \n",
      " 6   no_of_children           44754 non-null  float64\n",
      " 7   net_yearly_income        45528 non-null  float64\n",
      " 8   no_of_days_employed      45065 non-null  float64\n",
      " 9   occupation_type          45528 non-null  object \n",
      " 10  total_family_members     45445 non-null  float64\n",
      " 11  migrant_worker           45441 non-null  float64\n",
      " 12  yearly_debt_payments     45433 non-null  float64\n",
      " 13  credit_limit             45528 non-null  float64\n",
      " 14  credit_limit_used(%)     45528 non-null  int64  \n",
      " 15  credit_score             45520 non-null  float64\n",
      " 16  prev_defaults            45528 non-null  int64  \n",
      " 17  default_in_last_6months  45528 non-null  int64  \n",
      " 18  credit_card_default      45528 non-null  int64  \n",
      "dtypes: float64(8), int64(5), object(6)\n",
      "memory usage: 6.6+ MB\n"
     ]
    }
   ],
   "source": [
    "# Checking the column types of the dataset\n",
    "train_data.info()"
   ]
  },
  {
   "cell_type": "code",
   "execution_count": 6,
   "id": "1d73f4a8",
   "metadata": {},
   "outputs": [
    {
     "data": {
      "text/plain": [
       "(45528, 19)"
      ]
     },
     "execution_count": 6,
     "metadata": {},
     "output_type": "execute_result"
    }
   ],
   "source": [
    "# Displaying the dimensions of the train data\n",
    "train_data.shape"
   ]
  },
  {
   "cell_type": "code",
   "execution_count": 7,
   "id": "cd5ca596",
   "metadata": {},
   "outputs": [
    {
     "name": "stdout",
     "output_type": "stream",
     "text": [
      "Unique values in Train Data:\n",
      "\n",
      "customer_id ['CST_115179' 'CST_121920' 'CST_109330' ... 'CST_145435' 'CST_130913'\n",
      " 'CST_160078']\n",
      "name ['ita Bose' 'Alper Jonathan' 'Umesh Desai' ... 'Roantree Kevin'\n",
      " 'Radu Marinas' 'Mostafavi']\n",
      "age [46 29 37 39 38 40 32 52 43 24 41 34 50 36 42 23 27 26 30 35 48 53 47 28\n",
      " 33 49 51 55 54 25 31 44 45]\n",
      "gender ['F' 'M' 'XNA']\n",
      "owns_car ['N' 'Y' nan]\n",
      "owns_house ['Y' 'N']\n",
      "no_of_children [ 0.  1.  2. nan  3.  4.  5.  6.  7.  8.  9.]\n",
      "net_yearly_income [107934.04 109862.62 230153.17 ... 260052.18 157363.04 316896.28]\n",
      "no_of_days_employed [  612.  2771.   204. ... 10398. 10009.  5372.]\n",
      "occupation_type ['Unknown' 'Laborers' 'Core staff' 'Accountants' 'High skill tech staff'\n",
      " 'Sales staff' 'Managers' 'Drivers' 'Medicine staff' 'Cleaning staff'\n",
      " 'HR staff' 'Security staff' 'Cooking staff' 'Waiters/barmen staff'\n",
      " 'Low-skill Laborers' 'Private service staff' 'Secretaries'\n",
      " 'Realty agents' 'IT staff']\n",
      "total_family_members [ 1.  2.  3.  4.  5.  6. nan  7.  8.  9. 10.]\n",
      "migrant_worker [ 1.  0. nan]\n",
      "yearly_debt_payments [33070.28 15329.53 48416.6  ... 22707.51 20150.1  34603.78]\n",
      "credit_limit [18690.93 37745.19 41598.36 ... 83961.83 25538.72 36630.76]\n",
      "credit_limit_used(%) [73 52 43 20 75 19 42 91 14 58 41 72 40 63 77 87 84 97 74 69 83 50 28 49\n",
      " 98 36 99 23  3  8 30 10 61 32 55 22 90 71  5 18 76 88 47 94 29 95 37 56\n",
      " 92 13 79 81 16  9 78 15 39 62 35 67 17 60 66 48 44 57 25 27 53 45 21 24\n",
      " 65 26  4 54 85 12 51 64 89  0  1  2 34 31 33  6 93 46 86 59 70  7 68 82\n",
      " 96 38 11 80]\n",
      "credit_score [544. 857. 650. 754. 927. 937. 733. 906. 783. 666. 781. 889. 643. 909.\n",
      " 874. 763. 582. 699. 753. 710. 651. 893. 519. 895. 801. 880. 943. 795.\n",
      " 886. 832. 823. 766. 904. 919. 922. 673. 738. 684. 851. 695. 902. 724.\n",
      " 931. 811. 848. 737. 717. 891. 814. 723. 800. 715. 692. 947. 912. 735.\n",
      " 782. 843. 900. 532. 883. 713. 679. 934. 797. 730. 863. 949. 702. 867.\n",
      " 688. 774. 923. 676. 876. 703. 667. 620. 926. 835. 608. 736. 655. 808.\n",
      " 905. 948. 658. 731. 825. 677. 681. 682. 946. 672. 864. 833. 815. 828.\n",
      " 700. 894. 698. 890. 793. 689. 660. 802. 810. 853. 789. 777. 752. 870.\n",
      " 761. 701. 719. 628. 785. 750. 525. 872. 640. 856. 888. 792. 760. 865.\n",
      " 696. 824. 709. 740. 668. 846. 929. 786. 859. 728. 917. 944. 674. 915.\n",
      " 665. 840. 512. 892. 546. 942. 794. 898. 751. 742. 718. 881. 819. 664.\n",
      " 714. 693. 818. 791. 726. 829. 911. 854. 712. 839. 897. 925. 745. 662.\n",
      " 871. 716. 727. 928. 697. 796. 657. 686. 720. 747. 842. 901. 930. 873.\n",
      " 705. 560. 711. 816. 809. 678. 935. 758. 513. 861. 887. 607. 875. 553.\n",
      " 685. 523. 938. 597. 756. 899. 694. 903. 817. 862. 821. 827. 550. 771.\n",
      " 744. 755. 805. 503. 617. 908. 882. 670. 877. 884. 940. 844. 858. 704.\n",
      " 826. 632. 659. 914. 778. 706. 841. 757. 534. 924. 921. 569. 831. 762.\n",
      " 836. 806. 630. 834. 798. 613. 855. 612. 691. 725. 910. 661. 852. 652.\n",
      " 813. 741. 784. 879. 830. 656. 707. 822. 885. 776. 837. 508. 687. 765.\n",
      " 807. 820. 775. 749. 769. 759. 645. 788. 770. 772. 579. 578. 878. 566.\n",
      " 869. 932. 671. 527. 945. 746. 618. 907. 564. 896. 941. 799. 913. 567.\n",
      " 748. 773. 838. 767. 780. 779. 572. 653. 669. 804. 868. 516. 596. 522.\n",
      " 663. 639. 576. 622. 936. 636. 860. 505. 850. 675. 708. 787. 654. 690.\n",
      " 916. 633. 920. 739. 734. 764. 743. 732. 933. 501. 803. 605. 621. 511.\n",
      " 812. 849. 648. 683. 603. 533. 587. 586. 939. 866. 845. 847. 509. 598.\n",
      " 580. 729. 722. 540. 577. 517. 790. 545. 536. 574. 768. 918. 557. 528.\n",
      " 721. 631. 547. 646. 559. 593. 558. 581. 561. 680. 568. 529. 543. 541.\n",
      " 614. 616. 507. 634. 583. 535. 637. 638. 565. 592. 563. 575. 623.  nan\n",
      " 537. 552. 647. 585. 626. 584. 600. 625. 610. 642. 571. 627. 604. 649.\n",
      " 619. 538. 562. 599. 531. 641. 526. 551. 506. 504. 524. 514. 590. 601.\n",
      " 502. 606. 602. 611. 549. 609. 615. 595. 591. 521. 539. 573. 520. 542.\n",
      " 515. 588. 624. 635. 548. 556. 510. 530. 518. 570. 554. 589. 500. 555.\n",
      " 629. 644. 594.]\n",
      "prev_defaults [2 0 1]\n",
      "default_in_last_6months [1 0]\n",
      "credit_card_default [1 0]\n",
      "\n",
      "Unique values in Test Data:\n",
      "\n",
      "customer_id ['CST_142525' 'CST_129215' 'CST_138443' ... 'CST_134002' 'CST_146856'\n",
      " 'CST_112001']\n",
      "name ['Siva' 'Scott' 'Victoria' ... 'Alsharif' 'Natalia Ishchenko' 'Burger']\n",
      "age [52 48 50 30 29 37 41 27 25 51 47 42 36 35 28 43 55 40 53 39 23 46 31 44\n",
      " 33 26 32 24 45 38 54 49 34]\n",
      "gender ['F' 'M' 'XNA']\n",
      "owns_car ['Y' 'N' nan]\n",
      "owns_house ['N' 'Y']\n",
      "no_of_children [ 0.  1.  2. nan  3.  5.  4.  7. 11.]\n",
      "net_yearly_income [232640.53 284396.79 149419.28 ... 364652.81 128769.02 158543.43]\n",
      "no_of_days_employed [  998.  1338.  1210. ...  3051.  3431. 16320.]\n",
      "occupation_type ['Unknown' 'Laborers' 'Sales staff' 'Medicine staff' 'Security staff'\n",
      " 'Core staff' 'Managers' 'Drivers' 'Cooking staff' 'High skill tech staff'\n",
      " 'Accountants' 'Realty agents' 'Cleaning staff' 'Low-skill Laborers'\n",
      " 'Waiters/barmen staff' 'Private service staff' 'Secretaries' 'HR staff'\n",
      " 'IT staff']\n",
      "total_family_members [ 2.  3.  1.  4.  5.  6. nan  7.  9. 13.]\n",
      "migrant_worker [ 0.  1. nan]\n",
      "yearly_debt_payments [14406.73 57479.99 21611.01 ... 28658.55 11527.38 30290.64]\n",
      "credit_limit [26524.4  68998.72 25187.8  ... 69336.96 26908.03 26071.88]\n",
      "credit_limit_used(%) [ 4 70 71  9 82 29  5 12 90 85 91 13  8 52 56 38  3 24  7 94 69 58 30 63\n",
      " 77 75 76 20 79 99  2  6 60 14 86 74 98 64 10 93 95  0 15 51 80 87 11 32\n",
      " 62 17 21 61 37 97 34 26 78 59 40 92 23 66 27 18 54  1 68 81 47 53 39 35\n",
      " 19 73 36 67 49 84 65 28 16 45 22 89 50 41 43 96 57 72 42 33 48 46 25 55\n",
      " 83 44 31 88]\n",
      "credit_score [779. 806. 528. 815. 613. 720. 944. 939. 763. 897. 919. 650. 879. 787.\n",
      " 865. 863. 762. 727. 691. 817. 936. 651. 803. 814. 934. 687. 750. 862.\n",
      " 733. 582. 525. 783. 676. 776. 753. 767. 796. 658. 835. 838. 545. 608.\n",
      " 711. 867. 655. 881. 761. 798. 782. 785. 728. 795. 505. 830. 899. 917.\n",
      " 834. 829. 825. 652. 784. 662. 804. 696. 558. 759. 822. 855. 669. 660.\n",
      " 760. 554. 768. 949. 661. 571. 644. 712. 794. 688. 946. 927. 892. 520.\n",
      " 596. 735. 874. 887. 657. 940. 889. 710. 941. 656. 723. 901. 864. 664.\n",
      " 802. 812. 808. 904. 858. 659. 778. 903. 801. 859. 854. 842. 878. 740.\n",
      " 932. 948. 736. 781. 856. 772. 870. 923. 931. 684. 754. 527. 715. 924.\n",
      " 686. 749. 942. 707. 741. 594. 818. 605. 747. 847. 522. 920. 698. 640.\n",
      " 725. 666. 885. 912. 883. 861. 860. 797. 748. 886. 810. 913. 888. 744.\n",
      " 648. 510. 678. 828. 902. 695. 816. 813. 670. 694. 559. 719. 839. 624.\n",
      " 726. 846. 697. 603. 788. 757. 667. 800. 692. 851. 922. 730. 665. 824.\n",
      " 716. 832. 925. 875. 905. 743. 765. 758. 882. 717. 893. 849. 739. 663.\n",
      " 681. 704. 826. 827. 894. 771. 700. 845. 770. 884. 843. 823. 683. 911.\n",
      " 703. 734. 805. 786. 693. 562. 811. 713. 690. 844. 775. 809. 732. 906.\n",
      " 685. 791. 600. 914. 538. 755. 871. 909. 729. 598. 756. 548. 706. 943.\n",
      " 601. 654. 724. 699. 928. 853. 872. 831. 821. 848. 877. 679. 751. 668.\n",
      " 780. 910. 547. 714. 836. 930. 673. 702. 675. 799. 945. 721. 819. 737.\n",
      " 625. 752. 742. 868. 523. 731. 564. 589. 671. 689. 840. 900. 578. 764.\n",
      " 857. 921. 557. 682. 891. 588. 935. 907. 890. 789. 833. 627. 680. 637.\n",
      " 895. 869. 774. 876. 602. 645. 745. 677. 604. 938. 933. 915. 852. 606.\n",
      " 792. 866. 629. 929. 705. 565. 701. 918. 746. 777. 611. 880. 807. 769.\n",
      " 820. 837. 793. 518. 636. 540. 612. 916. 873. 898. 610. 896. 709. 708.\n",
      " 850. 500. 722. 530. 947. 592. 766. 569. 908. 631. 618. 591. 773. 790.\n",
      " 599. 926. 622. 641. 567. 609. 534. 937. 551. 519. 552. 514. 672. 653.\n",
      " 508. 647. 501. 674. 509. 581. 738. 635. 575. 503. 649. 632. 550. 646.\n",
      " 628. 841. 590. 639. 718. 531. 504. 634. 621. 633. 585. 517. 546. 539.\n",
      " 595. 572. 513. 597. 543. 616. 630. 643. 619. 576. 620. 529. 593. 574.\n",
      " 638. 542. 642. 536. 579. 526. 533. 512. 617. 614. 506. 544. 555. 568.\n",
      " 563. 541. 532. 586. 573. 553. 566. 502. 626. 583. 607. 623. 511.  nan\n",
      " 580. 587. 577. 524. 515. 561. 537. 521. 535. 615. 560. 516. 584. 570.\n",
      " 549. 556.]\n",
      "prev_defaults [0 2 1]\n",
      "default_in_last_6months [0 1]\n"
     ]
    }
   ],
   "source": [
    "print(\"Unique values in Train Data:\")\n",
    "print()\n",
    "for i in train_data.columns:\n",
    "    print(i, train_data[i].unique())\n",
    "    \n",
    "print(\"\\nUnique values in Test Data:\")\n",
    "print()\n",
    "for i in test_data.columns:\n",
    "    print(i, test_data[i].unique())"
   ]
  },
  {
   "cell_type": "markdown",
   "id": "8c867fb4",
   "metadata": {},
   "source": [
    "Its observed that the \"gender\" column has a \"XNA\" value which needs to be replaced. The unique values give an overall idea about the values of all columns."
   ]
  },
  {
   "cell_type": "code",
   "execution_count": 8,
   "id": "56cfca81",
   "metadata": {},
   "outputs": [
    {
     "name": "stdout",
     "output_type": "stream",
     "text": [
      "No. of duplicate values in train data: 0\n",
      "No. of duplicate values in test data: 0\n"
     ]
    }
   ],
   "source": [
    "print(\"No. of duplicate values in train data:\", train_data.shape[0]-len(train_data['customer_id'].unique()))\n",
    "print(\"No. of duplicate values in test data:\", test_data.shape[0]-len(test_data['customer_id'].unique()))"
   ]
  },
  {
   "cell_type": "markdown",
   "id": "98ee066e",
   "metadata": {},
   "source": [
    "There are no duplicate Customer IDs in the train and test data."
   ]
  },
  {
   "cell_type": "code",
   "execution_count": 9,
   "id": "b9258214",
   "metadata": {},
   "outputs": [],
   "source": [
    "# Dropping the \"customer_id\" and \"name\" columns as they aren't needed for model training\n",
    "train_data = train_data.drop(['customer_id', 'name'], axis = 1)"
   ]
  },
  {
   "cell_type": "markdown",
   "id": "b60cffb3",
   "metadata": {},
   "source": [
    "## Distribution Plots of Columns containing Missing Values"
   ]
  },
  {
   "cell_type": "code",
   "execution_count": 10,
   "id": "0903fad0",
   "metadata": {},
   "outputs": [
    {
     "data": {
      "text/plain": [
       "<AxesSubplot:xlabel='no_of_children', ylabel='Density'>"
      ]
     },
     "execution_count": 10,
     "metadata": {},
     "output_type": "execute_result"
    },
    {
     "data": {
      "image/png": "[encoded data removed]",
      "text/plain": [
       "<Figure size 720x576 with 1 Axes>"
      ]
     },
     "metadata": {
      "needs_background": "light"
     },
     "output_type": "display_data"
    }
   ],
   "source": [
    "plt.subplots(figsize = (10,8))\n",
    "sns.distplot(train_data.no_of_children)"
   ]
  },
  {
   "cell_type": "code",
   "execution_count": 11,
   "id": "40433d59",
   "metadata": {},
   "outputs": [
    {
     "data": {
      "text/plain": [
       "<AxesSubplot:xlabel='no_of_days_employed', ylabel='Density'>"
      ]
     },
     "execution_count": 11,
     "metadata": {},
     "output_type": "execute_result"
    },
    {
     "data": {
      "image/png": "[encoded data removed]",
      "text/plain": [
       "<Figure size 432x288 with 1 Axes>"
      ]
     },
     "metadata": {
      "needs_background": "light"
     },
     "output_type": "display_data"
    }
   ],
   "source": [
    "sns.distplot(train_data.no_of_days_employed)"
   ]
  },
  {
   "cell_type": "code",
   "execution_count": 12,
   "id": "ecdae131",
   "metadata": {},
   "outputs": [
    {
     "data": {
      "text/plain": [
       "<AxesSubplot:xlabel='total_family_members', ylabel='Density'>"
      ]
     },
     "execution_count": 12,
     "metadata": {},
     "output_type": "execute_result"
    },
    {
     "data": {
      "image/png": "[encoded data removed]",
      "text/plain": [
       "<Figure size 432x288 with 1 Axes>"
      ]
     },
     "metadata": {
      "needs_background": "light"
     },
     "output_type": "display_data"
    }
   ],
   "source": [
    "sns.distplot(train_data.total_family_members)"
   ]
  },
  {
   "cell_type": "code",
   "execution_count": 13,
   "id": "21295459",
   "metadata": {},
   "outputs": [
    {
     "data": {
      "text/plain": [
       "<AxesSubplot:xlabel='migrant_worker', ylabel='Density'>"
      ]
     },
     "execution_count": 13,
     "metadata": {},
     "output_type": "execute_result"
    },
    {
     "data": {
      "image/png": "[encoded data removed]",
      "text/plain": [
       "<Figure size 432x288 with 1 Axes>"
      ]
     },
     "metadata": {
      "needs_background": "light"
     },
     "output_type": "display_data"
    }
   ],
   "source": [
    "sns.distplot(train_data.migrant_worker)"
   ]
  },
  {
   "cell_type": "code",
   "execution_count": 14,
   "id": "df7d93d4",
   "metadata": {},
   "outputs": [
    {
     "data": {
      "text/plain": [
       "<AxesSubplot:xlabel='yearly_debt_payments', ylabel='Density'>"
      ]
     },
     "execution_count": 14,
     "metadata": {},
     "output_type": "execute_result"
    },
    {
     "data": {
      "image/png": "[encoded data removed]",
      "text/plain": [
       "<Figure size 432x288 with 1 Axes>"
      ]
     },
     "metadata": {
      "needs_background": "light"
     },
     "output_type": "display_data"
    }
   ],
   "source": [
    "sns.distplot(train_data.yearly_debt_payments)"
   ]
  },
  {
   "cell_type": "code",
   "execution_count": 15,
   "id": "c17dbd2c",
   "metadata": {},
   "outputs": [
    {
     "data": {
      "text/plain": [
       "<AxesSubplot:xlabel='credit_score', ylabel='Density'>"
      ]
     },
     "execution_count": 15,
     "metadata": {},
     "output_type": "execute_result"
    },
    {
     "data": {
      "image/png": "[encoded data removed]",
      "text/plain": [
       "<Figure size 432x288 with 1 Axes>"
      ]
     },
     "metadata": {
      "needs_background": "light"
     },
     "output_type": "display_data"
    }
   ],
   "source": [
    "sns.distplot(train_data.credit_score)"
   ]
  },
  {
   "cell_type": "markdown",
   "id": "5d8e89c0",
   "metadata": {},
   "source": [
    "Columns \"yearly_debt_payments\" and \"credit_score\" have skewed distributions. Hence, Mean Imputation is not recommended for these columns to fill their missing values. The rest of the columns, containing missing values, have normal distributions. Median Imputation is used in this problem to fill the missing values of the dataset.\n",
    "(For Normal Distributions, Mean = Median. Median can still be used in this case.)"
   ]
  },
  {
   "cell_type": "code",
   "execution_count": 16,
   "id": "20f33aa4",
   "metadata": {},
   "outputs": [],
   "source": [
    "# Storing in a list - the names of the columns containing missing values\n",
    "median_impute_cols = ['no_of_children', 'no_of_days_employed', 'yearly_debt_payments', 'credit_score', \n",
    "                      'total_family_members', 'migrant_worker']"
   ]
  },
  {
   "cell_type": "code",
   "execution_count": 17,
   "id": "92cb5992",
   "metadata": {},
   "outputs": [],
   "source": [
    "# Function used to fill the missing values in the dataset and encode the \"object\" type columns using Label Encoding\n",
    "def missing_values(data):\n",
    "    # Replacing the \"XNA\" value of the \"gender\" column with the mode of the column\n",
    "    data['gender'] = data['gender'].replace('XNA', data['gender'].mode()[0])\n",
    "    \n",
    "    # Mode Imputation is recommended for filling missing values in a categorical column value type\n",
    "    for col in data:\n",
    "        if data[col].dtypes == 'object':\n",
    "            data[col] = data[col].fillna(data[col].mode()[0])\n",
    "\n",
    "    le = LabelEncoder()\n",
    "    \n",
    "    # Label Encoding for \"object\" type columns\n",
    "    for col in data:\n",
    "        if data[col].dtypes == 'object':\n",
    "            data[col] = le.fit_transform(data[col])\n",
    "            \n",
    "    # Median Imputation to fill the rest of the missing values (\"int\" and \"float\" types)\n",
    "    for col in median_impute_cols:\n",
    "        data[col] = data[col].fillna(data[col].median())\n",
    "        \n",
    "    # Displaying the count of null values in the dataset after filling missing values and encoding\n",
    "    print(data.isna().sum())\n",
    "    print('\\n')\n",
    "    # Displaying the column types\n",
    "    print(data.info())"
   ]
  },
  {
   "cell_type": "code",
   "execution_count": 18,
   "id": "cd7816c7",
   "metadata": {},
   "outputs": [
    {
     "name": "stdout",
     "output_type": "stream",
     "text": [
      "age                        0\n",
      "gender                     0\n",
      "owns_car                   0\n",
      "owns_house                 0\n",
      "no_of_children             0\n",
      "net_yearly_income          0\n",
      "no_of_days_employed        0\n",
      "occupation_type            0\n",
      "total_family_members       0\n",
      "migrant_worker             0\n",
      "yearly_debt_payments       0\n",
      "credit_limit               0\n",
      "credit_limit_used(%)       0\n",
      "credit_score               0\n",
      "prev_defaults              0\n",
      "default_in_last_6months    0\n",
      "credit_card_default        0\n",
      "dtype: int64\n",
      "\n",
      "\n",
      "<class 'pandas.core.frame.DataFrame'>\n",
      "RangeIndex: 45528 entries, 0 to 45527\n",
      "Data columns (total 17 columns):\n",
      " #   Column                   Non-Null Count  Dtype  \n",
      "---  ------                   --------------  -----  \n",
      " 0   age                      45528 non-null  int64  \n",
      " 1   gender                   45528 non-null  int32  \n",
      " 2   owns_car                 45528 non-null  int32  \n",
      " 3   owns_house               45528 non-null  int32  \n",
      " 4   no_of_children           45528 non-null  float64\n",
      " 5   net_yearly_income        45528 non-null  float64\n",
      " 6   no_of_days_employed      45528 non-null  float64\n",
      " 7   occupation_type          45528 non-null  int32  \n",
      " 8   total_family_members     45528 non-null  float64\n",
      " 9   migrant_worker           45528 non-null  float64\n",
      " 10  yearly_debt_payments     45528 non-null  float64\n",
      " 11  credit_limit             45528 non-null  float64\n",
      " 12  credit_limit_used(%)     45528 non-null  int64  \n",
      " 13  credit_score             45528 non-null  float64\n",
      " 14  prev_defaults            45528 non-null  int64  \n",
      " 15  default_in_last_6months  45528 non-null  int64  \n",
      " 16  credit_card_default      45528 non-null  int64  \n",
      "dtypes: float64(8), int32(4), int64(5)\n",
      "memory usage: 5.2 MB\n",
      "None\n"
     ]
    }
   ],
   "source": [
    "# Filling the missing values in the train data and label encoding the categorical values\n",
    "missing_values(train_data)"
   ]
  },
  {
   "cell_type": "code",
   "execution_count": 19,
   "id": "2eac7c3b",
   "metadata": {},
   "outputs": [
    {
     "data": {
      "image/png": "[encoded data removed]",
      "text/plain": [
       "<Figure size 1008x1008 with 2 Axes>"
      ]
     },
     "metadata": {
      "needs_background": "light"
     },
     "output_type": "display_data"
    }
   ],
   "source": [
    "# Heatmap to compare the correlation coefficients of the columns among each other\n",
    "plt.figure(figsize = (14,14))\n",
    "corr = train_data.corr()\n",
    "sns.heatmap(corr,xticklabels=corr.columns,yticklabels=corr.columns,linewidths=.1,cmap=\"Reds\", annot = True)\n",
    "plt.show()"
   ]
  },
  {
   "cell_type": "markdown",
   "id": "3d031654",
   "metadata": {},
   "source": [
    "The following columns are highly correlated to each other:  \n",
    "  \n",
    "1) \"no_of_children\" and \"total_family_members\" (0.87)  \n",
    "2) \"net_yearly_income_ and \"credit_limit\" (0.99)  \n",
    "3) \"prev_defaults\" and \"default_in_last_6months\" (0.81)  "
   ]
  },
  {
   "cell_type": "code",
   "execution_count": 20,
   "id": "a65b510a",
   "metadata": {},
   "outputs": [
    {
     "data": {
      "text/plain": [
       "(11383, 18)"
      ]
     },
     "execution_count": 20,
     "metadata": {},
     "output_type": "execute_result"
    }
   ],
   "source": [
    "# Displaying the dimensions of the test data\n",
    "test_data.shape"
   ]
  },
  {
   "cell_type": "code",
   "execution_count": 21,
   "id": "fe73849e",
   "metadata": {},
   "outputs": [
    {
     "data": {
      "text/plain": [
       "customer_id                  0\n",
       "name                         0\n",
       "age                          0\n",
       "gender                       0\n",
       "owns_car                   132\n",
       "owns_house                   0\n",
       "no_of_children             190\n",
       "net_yearly_income            0\n",
       "no_of_days_employed        105\n",
       "occupation_type              0\n",
       "total_family_members        31\n",
       "migrant_worker              26\n",
       "yearly_debt_payments        22\n",
       "credit_limit                 0\n",
       "credit_limit_used(%)         0\n",
       "credit_score                 3\n",
       "prev_defaults                0\n",
       "default_in_last_6months      0\n",
       "dtype: int64"
      ]
     },
     "execution_count": 21,
     "metadata": {},
     "output_type": "execute_result"
    }
   ],
   "source": [
    "# Checking the columns containing null values\n",
    "test_data.isnull().sum()"
   ]
  },
  {
   "cell_type": "code",
   "execution_count": 22,
   "id": "21259f6a",
   "metadata": {},
   "outputs": [
    {
     "name": "stdout",
     "output_type": "stream",
     "text": [
      "<class 'pandas.core.frame.DataFrame'>\n",
      "RangeIndex: 11383 entries, 0 to 11382\n",
      "Data columns (total 18 columns):\n",
      " #   Column                   Non-Null Count  Dtype  \n",
      "---  ------                   --------------  -----  \n",
      " 0   customer_id              11383 non-null  object \n",
      " 1   name                     11383 non-null  object \n",
      " 2   age                      11383 non-null  int64  \n",
      " 3   gender                   11383 non-null  object \n",
      " 4   owns_car                 11251 non-null  object \n",
      " 5   owns_house               11383 non-null  object \n",
      " 6   no_of_children           11193 non-null  float64\n",
      " 7   net_yearly_income        11383 non-null  float64\n",
      " 8   no_of_days_employed      11278 non-null  float64\n",
      " 9   occupation_type          11383 non-null  object \n",
      " 10  total_family_members     11352 non-null  float64\n",
      " 11  migrant_worker           11357 non-null  float64\n",
      " 12  yearly_debt_payments     11361 non-null  float64\n",
      " 13  credit_limit             11383 non-null  float64\n",
      " 14  credit_limit_used(%)     11383 non-null  int64  \n",
      " 15  credit_score             11380 non-null  float64\n",
      " 16  prev_defaults            11383 non-null  int64  \n",
      " 17  default_in_last_6months  11383 non-null  int64  \n",
      "dtypes: float64(8), int64(4), object(6)\n",
      "memory usage: 1.6+ MB\n"
     ]
    }
   ],
   "source": [
    "# Checking the column types of the dataset\n",
    "test_data.info()"
   ]
  },
  {
   "cell_type": "code",
   "execution_count": 23,
   "id": "fb17e53c",
   "metadata": {},
   "outputs": [],
   "source": [
    "# Removing the \"customer_id\" and \"name\" columns as they aren't needed for model prediction\n",
    "test_data = test_data.drop(['customer_id', 'name'], axis = 1)"
   ]
  },
  {
   "cell_type": "code",
   "execution_count": 24,
   "id": "62f33840",
   "metadata": {},
   "outputs": [
    {
     "name": "stdout",
     "output_type": "stream",
     "text": [
      "age                        0\n",
      "gender                     0\n",
      "owns_car                   0\n",
      "owns_house                 0\n",
      "no_of_children             0\n",
      "net_yearly_income          0\n",
      "no_of_days_employed        0\n",
      "occupation_type            0\n",
      "total_family_members       0\n",
      "migrant_worker             0\n",
      "yearly_debt_payments       0\n",
      "credit_limit               0\n",
      "credit_limit_used(%)       0\n",
      "credit_score               0\n",
      "prev_defaults              0\n",
      "default_in_last_6months    0\n",
      "dtype: int64\n",
      "\n",
      "\n",
      "<class 'pandas.core.frame.DataFrame'>\n",
      "RangeIndex: 11383 entries, 0 to 11382\n",
      "Data columns (total 16 columns):\n",
      " #   Column                   Non-Null Count  Dtype  \n",
      "---  ------                   --------------  -----  \n",
      " 0   age                      11383 non-null  int64  \n",
      " 1   gender                   11383 non-null  int32  \n",
      " 2   owns_car                 11383 non-null  int32  \n",
      " 3   owns_house               11383 non-null  int32  \n",
      " 4   no_of_children           11383 non-null  float64\n",
      " 5   net_yearly_income        11383 non-null  float64\n",
      " 6   no_of_days_employed      11383 non-null  float64\n",
      " 7   occupation_type          11383 non-null  int32  \n",
      " 8   total_family_members     11383 non-null  float64\n",
      " 9   migrant_worker           11383 non-null  float64\n",
      " 10  yearly_debt_payments     11383 non-null  float64\n",
      " 11  credit_limit             11383 non-null  float64\n",
      " 12  credit_limit_used(%)     11383 non-null  int64  \n",
      " 13  credit_score             11383 non-null  float64\n",
      " 14  prev_defaults            11383 non-null  int64  \n",
      " 15  default_in_last_6months  11383 non-null  int64  \n",
      "dtypes: float64(8), int32(4), int64(4)\n",
      "memory usage: 1.2 MB\n",
      "None\n"
     ]
    }
   ],
   "source": [
    "# Filling the missing values in the test data and label encoding the categorical values\n",
    "missing_values(test_data)"
   ]
  },
  {
   "cell_type": "code",
   "execution_count": 25,
   "id": "53ca58c6",
   "metadata": {},
   "outputs": [],
   "source": [
    "# Assigning X as the independent variables and Y as the dependent variable (target variable) in train data\n",
    "X, y = train_data.iloc[:, :-1], train_data.iloc[:, -1]"
   ]
  },
  {
   "cell_type": "code",
   "execution_count": 26,
   "id": "f517a613",
   "metadata": {},
   "outputs": [
    {
     "data": {
      "text/html": [
       "<div>\n",
       "<style scoped>\n",
       "    .dataframe tbody tr th:only-of-type {\n",
       "        vertical-align: middle;\n",
       "    }\n",
       "\n",
       "    .dataframe tbody tr th {\n",
       "        vertical-align: top;\n",
       "    }\n",
       "\n",
       "    .dataframe thead th {\n",
       "        text-align: right;\n",
       "    }\n",
       "</style>\n",
       "<table border=\"1\" class=\"dataframe\">\n",
       "  <thead>\n",
       "    <tr style=\"text-align: right;\">\n",
       "      <th></th>\n",
       "      <th>age</th>\n",
       "      <th>gender</th>\n",
       "      <th>owns_car</th>\n",
       "      <th>owns_house</th>\n",
       "      <th>no_of_children</th>\n",
       "      <th>net_yearly_income</th>\n",
       "      <th>no_of_days_employed</th>\n",
       "      <th>occupation_type</th>\n",
       "      <th>total_family_members</th>\n",
       "      <th>migrant_worker</th>\n",
       "      <th>yearly_debt_payments</th>\n",
       "      <th>credit_limit</th>\n",
       "      <th>credit_limit_used(%)</th>\n",
       "      <th>credit_score</th>\n",
       "      <th>prev_defaults</th>\n",
       "      <th>default_in_last_6months</th>\n",
       "    </tr>\n",
       "  </thead>\n",
       "  <tbody>\n",
       "    <tr>\n",
       "      <th>0</th>\n",
       "      <td>0.71875</td>\n",
       "      <td>0.0</td>\n",
       "      <td>0.0</td>\n",
       "      <td>1.0</td>\n",
       "      <td>0.0</td>\n",
       "      <td>0.000574</td>\n",
       "      <td>0.001670</td>\n",
       "      <td>0.944444</td>\n",
       "      <td>0.000000</td>\n",
       "      <td>1.0</td>\n",
       "      <td>0.094615</td>\n",
       "      <td>0.000472</td>\n",
       "      <td>0.737374</td>\n",
       "      <td>0.097996</td>\n",
       "      <td>1.0</td>\n",
       "      <td>1.0</td>\n",
       "    </tr>\n",
       "    <tr>\n",
       "      <th>1</th>\n",
       "      <td>0.18750</td>\n",
       "      <td>1.0</td>\n",
       "      <td>0.0</td>\n",
       "      <td>1.0</td>\n",
       "      <td>0.0</td>\n",
       "      <td>0.000588</td>\n",
       "      <td>0.007581</td>\n",
       "      <td>0.444444</td>\n",
       "      <td>0.111111</td>\n",
       "      <td>0.0</td>\n",
       "      <td>0.040175</td>\n",
       "      <td>0.001084</td>\n",
       "      <td>0.525253</td>\n",
       "      <td>0.795100</td>\n",
       "      <td>0.0</td>\n",
       "      <td>0.0</td>\n",
       "    </tr>\n",
       "    <tr>\n",
       "      <th>2</th>\n",
       "      <td>0.43750</td>\n",
       "      <td>1.0</td>\n",
       "      <td>0.0</td>\n",
       "      <td>1.0</td>\n",
       "      <td>0.0</td>\n",
       "      <td>0.001442</td>\n",
       "      <td>0.000553</td>\n",
       "      <td>0.444444</td>\n",
       "      <td>0.111111</td>\n",
       "      <td>0.0</td>\n",
       "      <td>0.141708</td>\n",
       "      <td>0.001208</td>\n",
       "      <td>0.434343</td>\n",
       "      <td>0.334076</td>\n",
       "      <td>0.0</td>\n",
       "      <td>0.0</td>\n",
       "    </tr>\n",
       "    <tr>\n",
       "      <th>3</th>\n",
       "      <td>0.50000</td>\n",
       "      <td>0.0</td>\n",
       "      <td>0.0</td>\n",
       "      <td>1.0</td>\n",
       "      <td>0.0</td>\n",
       "      <td>0.000676</td>\n",
       "      <td>0.032687</td>\n",
       "      <td>0.166667</td>\n",
       "      <td>0.111111</td>\n",
       "      <td>0.0</td>\n",
       "      <td>0.062407</td>\n",
       "      <td>0.000920</td>\n",
       "      <td>0.202020</td>\n",
       "      <td>0.565702</td>\n",
       "      <td>0.0</td>\n",
       "      <td>0.0</td>\n",
       "    </tr>\n",
       "    <tr>\n",
       "      <th>4</th>\n",
       "      <td>0.71875</td>\n",
       "      <td>1.0</td>\n",
       "      <td>1.0</td>\n",
       "      <td>1.0</td>\n",
       "      <td>0.0</td>\n",
       "      <td>0.002559</td>\n",
       "      <td>0.003989</td>\n",
       "      <td>0.166667</td>\n",
       "      <td>0.000000</td>\n",
       "      <td>0.0</td>\n",
       "      <td>0.110611</td>\n",
       "      <td>0.001573</td>\n",
       "      <td>0.757576</td>\n",
       "      <td>0.951002</td>\n",
       "      <td>0.0</td>\n",
       "      <td>0.0</td>\n",
       "    </tr>\n",
       "  </tbody>\n",
       "</table>\n",
       "</div>"
      ],
      "text/plain": [
       "       age  gender  owns_car  owns_house  no_of_children  net_yearly_income  \\\n",
       "0  0.71875     0.0       0.0         1.0             0.0           0.000574   \n",
       "1  0.18750     1.0       0.0         1.0             0.0           0.000588   \n",
       "2  0.43750     1.0       0.0         1.0             0.0           0.001442   \n",
       "3  0.50000     0.0       0.0         1.0             0.0           0.000676   \n",
       "4  0.71875     1.0       1.0         1.0             0.0           0.002559   \n",
       "\n",
       "   no_of_days_employed  occupation_type  total_family_members  migrant_worker  \\\n",
       "0             0.001670         0.944444              0.000000             1.0   \n",
       "1             0.007581         0.444444              0.111111             0.0   \n",
       "2             0.000553         0.444444              0.111111             0.0   \n",
       "3             0.032687         0.166667              0.111111             0.0   \n",
       "4             0.003989         0.166667              0.000000             0.0   \n",
       "\n",
       "   yearly_debt_payments  credit_limit  credit_limit_used(%)  credit_score  \\\n",
       "0              0.094615      0.000472              0.737374      0.097996   \n",
       "1              0.040175      0.001084              0.525253      0.795100   \n",
       "2              0.141708      0.001208              0.434343      0.334076   \n",
       "3              0.062407      0.000920              0.202020      0.565702   \n",
       "4              0.110611      0.001573              0.757576      0.951002   \n",
       "\n",
       "   prev_defaults  default_in_last_6months  \n",
       "0            1.0                      1.0  \n",
       "1            0.0                      0.0  \n",
       "2            0.0                      0.0  \n",
       "3            0.0                      0.0  \n",
       "4            0.0                      0.0  "
      ]
     },
     "execution_count": 26,
     "metadata": {},
     "output_type": "execute_result"
    }
   ],
   "source": [
    "# MinMax Normalization where feature range is [0,1]\n",
    "minmax = MinMaxScaler()\n",
    "# Performing MinMax Normalization on X and storing the normalized values\n",
    "X = pd.DataFrame(minmax.fit_transform(X), columns = X.columns)\n",
    "# Displaying the first 5 rows of the normalized train data\n",
    "X.head()"
   ]
  },
  {
   "cell_type": "code",
   "execution_count": 27,
   "id": "2335a45b",
   "metadata": {},
   "outputs": [],
   "source": [
    "# Splitting the normalized train data where training data size is 80% and validation data size is 20%\n",
    "X_train, X_test, y_train, y_test = train_test_split(X, y, test_size = 0.2, random_state = 42)"
   ]
  },
  {
   "cell_type": "code",
   "execution_count": 28,
   "id": "0be8aa73",
   "metadata": {},
   "outputs": [
    {
     "data": {
      "text/plain": [
       "0    41831\n",
       "1     3697\n",
       "Name: credit_card_default, dtype: int64"
      ]
     },
     "execution_count": 28,
     "metadata": {},
     "output_type": "execute_result"
    }
   ],
   "source": [
    "# Comparing the counts of the unique values in the target column \"credit_card_default\"\n",
    "train_data['credit_card_default'].value_counts()"
   ]
  },
  {
   "cell_type": "markdown",
   "id": "d45f8e52",
   "metadata": {},
   "source": [
    "The count of 1s is considerably lower than those of 0s resulting the class to be imbalanced."
   ]
  },
  {
   "cell_type": "markdown",
   "id": "a8bda952",
   "metadata": {},
   "source": [
    "## ML Algorithms Used  \n",
    "  \n",
    "1) Logistic Regression  \n",
    "2) Random Forest  \n",
    "3) Gradient Boosting Classifier  "
   ]
  },
  {
   "cell_type": "code",
   "execution_count": 29,
   "id": "f88d29f2",
   "metadata": {},
   "outputs": [
    {
     "name": "stdout",
     "output_type": "stream",
     "text": [
      "Macro-F1 Score for Logestic Regression: 92.96228691239897%\n",
      "Macro-F1 Score for Random Forest: 92.78506416320656%\n",
      "Macro-F1 Score for Gradient Boosting Classifier: 92.89627859444197%\n",
      "\n",
      "\n",
      "Classification Report for Logistic Regression:\n",
      "\n",
      "              precision    recall  f1-score   support\n",
      "\n",
      "           0       0.98      1.00      0.99      8335\n",
      "           1       0.98      0.78      0.87       771\n",
      "\n",
      "    accuracy                           0.98      9106\n",
      "   macro avg       0.98      0.89      0.93      9106\n",
      "weighted avg       0.98      0.98      0.98      9106\n",
      "\n"
     ]
    }
   ],
   "source": [
    "# Model training\n",
    "logreg = LogisticRegression().fit(X_train, y_train)\n",
    "rfc = RandomForestClassifier(n_estimators=10).fit(X_train, y_train)\n",
    "gb = GradientBoostingClassifier().fit(X_train, y_train)\n",
    "\n",
    "# Model Prediction on the validation data\n",
    "lr_pred = logreg.predict(X_test)\n",
    "rfc_pred = rfc.predict(X_test)\n",
    "gb_pred = gb.predict(X_test)\n",
    "\n",
    "# Calculating the Macro-F1 Score for each model\n",
    "score_log = 100*(f1_score(y_test, lr_pred, average = \"macro\")) \n",
    "score_rfc = 100*(f1_score(y_test, rfc_pred, average = \"macro\"))\n",
    "score_gb = 100*(f1_score(y_test, gb_pred, average = \"macro\"))\n",
    "\n",
    "# Displaying the Macro-F1 scores of each model\n",
    "print(\"Macro-F1 Score for Logestic Regression: \" + str(score_log) + \"%\")\n",
    "print(\"Macro-F1 Score for Random Forest: \" + str(score_rfc) + \"%\")\n",
    "print(\"Macro-F1 Score for Gradient Boosting Classifier: \" + str(score_gb) + \"%\")\n",
    "\n",
    "print(\"\\n\")\n",
    "\n",
    "# Classification Report generated on each model to check their Precision and Recall Values\n",
    "print(\"Classification Report for Logistic Regression:\")\n",
    "print()\n",
    "print(classification_report(y_test, lr_pred))"
   ]
  },
  {
   "cell_type": "code",
   "execution_count": 30,
   "id": "879191db",
   "metadata": {},
   "outputs": [
    {
     "name": "stdout",
     "output_type": "stream",
     "text": [
      "Classification Report for Random Forest:\n",
      "\n",
      "              precision    recall  f1-score   support\n",
      "\n",
      "           0       0.98      1.00      0.99      8335\n",
      "           1       0.97      0.78      0.87       771\n",
      "\n",
      "    accuracy                           0.98      9106\n",
      "   macro avg       0.97      0.89      0.93      9106\n",
      "weighted avg       0.98      0.98      0.98      9106\n",
      "\n"
     ]
    }
   ],
   "source": [
    "print(\"Classification Report for Random Forest:\")\n",
    "print()\n",
    "print(classification_report(y_test, rfc_pred))"
   ]
  },
  {
   "cell_type": "code",
   "execution_count": 31,
   "id": "31028c0a",
   "metadata": {},
   "outputs": [
    {
     "name": "stdout",
     "output_type": "stream",
     "text": [
      "Classification Report for Gradient Boosting Classifier:\n",
      "\n",
      "              precision    recall  f1-score   support\n",
      "\n",
      "           0       0.98      1.00      0.99      8335\n",
      "           1       0.99      0.77      0.87       771\n",
      "\n",
      "    accuracy                           0.98      9106\n",
      "   macro avg       0.99      0.89      0.93      9106\n",
      "weighted avg       0.98      0.98      0.98      9106\n",
      "\n"
     ]
    }
   ],
   "source": [
    "print(\"Classification Report for Gradient Boosting Classifier:\")\n",
    "print()\n",
    "print(classification_report(y_test, gb_pred))"
   ]
  },
  {
   "cell_type": "markdown",
   "id": "f87ee27f",
   "metadata": {},
   "source": [
    "From the above classification reports of each model, it is observed that the precision and recall values of the models on \"0\" values of the target variable is quite high.  \n",
    "However, the actual performance of the models is tested against the \"1\" values of the target column/variable. In this case, the Precision values are adequately high but the Recall values are considerably low which is not favourable for a class imbalanced problem as we want the count of false negatives for the value \"1\" to be as low as possible.  "
   ]
  },
  {
   "cell_type": "code",
   "execution_count": 32,
   "id": "aad3a77b",
   "metadata": {},
   "outputs": [
    {
     "data": {
      "text/html": [
       "<div>\n",
       "<style scoped>\n",
       "    .dataframe tbody tr th:only-of-type {\n",
       "        vertical-align: middle;\n",
       "    }\n",
       "\n",
       "    .dataframe tbody tr th {\n",
       "        vertical-align: top;\n",
       "    }\n",
       "\n",
       "    .dataframe thead th {\n",
       "        text-align: right;\n",
       "    }\n",
       "</style>\n",
       "<table border=\"1\" class=\"dataframe\">\n",
       "  <thead>\n",
       "    <tr style=\"text-align: right;\">\n",
       "      <th></th>\n",
       "      <th>age</th>\n",
       "      <th>gender</th>\n",
       "      <th>owns_car</th>\n",
       "      <th>owns_house</th>\n",
       "      <th>no_of_children</th>\n",
       "      <th>net_yearly_income</th>\n",
       "      <th>no_of_days_employed</th>\n",
       "      <th>occupation_type</th>\n",
       "      <th>total_family_members</th>\n",
       "      <th>migrant_worker</th>\n",
       "      <th>yearly_debt_payments</th>\n",
       "      <th>credit_limit</th>\n",
       "      <th>credit_limit_used(%)</th>\n",
       "      <th>credit_score</th>\n",
       "      <th>prev_defaults</th>\n",
       "      <th>default_in_last_6months</th>\n",
       "    </tr>\n",
       "  </thead>\n",
       "  <tbody>\n",
       "    <tr>\n",
       "      <th>0</th>\n",
       "      <td>0.90625</td>\n",
       "      <td>0.0</td>\n",
       "      <td>1.0</td>\n",
       "      <td>0.0</td>\n",
       "      <td>0.000000</td>\n",
       "      <td>0.082850</td>\n",
       "      <td>0.002741</td>\n",
       "      <td>0.944444</td>\n",
       "      <td>0.083333</td>\n",
       "      <td>0.0</td>\n",
       "      <td>0.043331</td>\n",
       "      <td>0.054843</td>\n",
       "      <td>0.040404</td>\n",
       "      <td>0.621381</td>\n",
       "      <td>0.0</td>\n",
       "      <td>0.0</td>\n",
       "    </tr>\n",
       "    <tr>\n",
       "      <th>1</th>\n",
       "      <td>0.78125</td>\n",
       "      <td>0.0</td>\n",
       "      <td>0.0</td>\n",
       "      <td>0.0</td>\n",
       "      <td>0.090909</td>\n",
       "      <td>0.104043</td>\n",
       "      <td>0.003671</td>\n",
       "      <td>0.944444</td>\n",
       "      <td>0.166667</td>\n",
       "      <td>0.0</td>\n",
       "      <td>0.198415</td>\n",
       "      <td>0.156478</td>\n",
       "      <td>0.707071</td>\n",
       "      <td>0.681514</td>\n",
       "      <td>0.0</td>\n",
       "      <td>0.0</td>\n",
       "    </tr>\n",
       "    <tr>\n",
       "      <th>2</th>\n",
       "      <td>0.84375</td>\n",
       "      <td>0.0</td>\n",
       "      <td>0.0</td>\n",
       "      <td>0.0</td>\n",
       "      <td>0.090909</td>\n",
       "      <td>0.048773</td>\n",
       "      <td>0.003321</td>\n",
       "      <td>0.944444</td>\n",
       "      <td>0.166667</td>\n",
       "      <td>0.0</td>\n",
       "      <td>0.069270</td>\n",
       "      <td>0.051645</td>\n",
       "      <td>0.717172</td>\n",
       "      <td>0.062361</td>\n",
       "      <td>1.0</td>\n",
       "      <td>0.0</td>\n",
       "    </tr>\n",
       "    <tr>\n",
       "      <th>3</th>\n",
       "      <td>0.21875</td>\n",
       "      <td>0.0</td>\n",
       "      <td>0.0</td>\n",
       "      <td>0.0</td>\n",
       "      <td>0.090909</td>\n",
       "      <td>0.053284</td>\n",
       "      <td>0.001385</td>\n",
       "      <td>0.444444</td>\n",
       "      <td>0.083333</td>\n",
       "      <td>1.0</td>\n",
       "      <td>0.095840</td>\n",
       "      <td>0.061196</td>\n",
       "      <td>0.090909</td>\n",
       "      <td>0.701559</td>\n",
       "      <td>0.0</td>\n",
       "      <td>0.0</td>\n",
       "    </tr>\n",
       "    <tr>\n",
       "      <th>4</th>\n",
       "      <td>0.90625</td>\n",
       "      <td>1.0</td>\n",
       "      <td>0.0</td>\n",
       "      <td>1.0</td>\n",
       "      <td>0.000000</td>\n",
       "      <td>0.083194</td>\n",
       "      <td>0.000438</td>\n",
       "      <td>0.444444</td>\n",
       "      <td>0.083333</td>\n",
       "      <td>1.0</td>\n",
       "      <td>0.186654</td>\n",
       "      <td>0.188382</td>\n",
       "      <td>0.828283</td>\n",
       "      <td>0.251670</td>\n",
       "      <td>0.5</td>\n",
       "      <td>1.0</td>\n",
       "    </tr>\n",
       "  </tbody>\n",
       "</table>\n",
       "</div>"
      ],
      "text/plain": [
       "       age  gender  owns_car  owns_house  no_of_children  net_yearly_income  \\\n",
       "0  0.90625     0.0       1.0         0.0        0.000000           0.082850   \n",
       "1  0.78125     0.0       0.0         0.0        0.090909           0.104043   \n",
       "2  0.84375     0.0       0.0         0.0        0.090909           0.048773   \n",
       "3  0.21875     0.0       0.0         0.0        0.090909           0.053284   \n",
       "4  0.90625     1.0       0.0         1.0        0.000000           0.083194   \n",
       "\n",
       "   no_of_days_employed  occupation_type  total_family_members  migrant_worker  \\\n",
       "0             0.002741         0.944444              0.083333             0.0   \n",
       "1             0.003671         0.944444              0.166667             0.0   \n",
       "2             0.003321         0.944444              0.166667             0.0   \n",
       "3             0.001385         0.444444              0.083333             1.0   \n",
       "4             0.000438         0.444444              0.083333             1.0   \n",
       "\n",
       "   yearly_debt_payments  credit_limit  credit_limit_used(%)  credit_score  \\\n",
       "0              0.043331      0.054843              0.040404      0.621381   \n",
       "1              0.198415      0.156478              0.707071      0.681514   \n",
       "2              0.069270      0.051645              0.717172      0.062361   \n",
       "3              0.095840      0.061196              0.090909      0.701559   \n",
       "4              0.186654      0.188382              0.828283      0.251670   \n",
       "\n",
       "   prev_defaults  default_in_last_6months  \n",
       "0            0.0                      0.0  \n",
       "1            0.0                      0.0  \n",
       "2            1.0                      0.0  \n",
       "3            0.0                      0.0  \n",
       "4            0.5                      1.0  "
      ]
     },
     "execution_count": 32,
     "metadata": {},
     "output_type": "execute_result"
    }
   ],
   "source": [
    "# Normalizing the test data using MinMax Normalization\n",
    "test = pd.DataFrame(minmax.fit_transform(test_data), columns = test_data.columns)\n",
    "# Displaying the first 5 rows of the normalized test data\n",
    "test.head()"
   ]
  },
  {
   "cell_type": "code",
   "execution_count": 33,
   "id": "54f15892",
   "metadata": {},
   "outputs": [
    {
     "data": {
      "text/plain": [
       "array([0, 0, 1, ..., 0, 0, 0], dtype=int64)"
      ]
     },
     "execution_count": 33,
     "metadata": {},
     "output_type": "execute_result"
    }
   ],
   "source": [
    "# Random Forest Model Prediction on the test data\n",
    "test_pred = rfc.predict(test)\n",
    "test_pred # Displaying the model prediction values"
   ]
  },
  {
   "cell_type": "code",
   "execution_count": 34,
   "id": "76b4e578",
   "metadata": {},
   "outputs": [
    {
     "data": {
      "text/html": [
       "<div>\n",
       "<style scoped>\n",
       "    .dataframe tbody tr th:only-of-type {\n",
       "        vertical-align: middle;\n",
       "    }\n",
       "\n",
       "    .dataframe tbody tr th {\n",
       "        vertical-align: top;\n",
       "    }\n",
       "\n",
       "    .dataframe thead th {\n",
       "        text-align: right;\n",
       "    }\n",
       "</style>\n",
       "<table border=\"1\" class=\"dataframe\">\n",
       "  <thead>\n",
       "    <tr style=\"text-align: right;\">\n",
       "      <th></th>\n",
       "      <th>customer_id</th>\n",
       "      <th>credit_card_default</th>\n",
       "    </tr>\n",
       "  </thead>\n",
       "  <tbody>\n",
       "    <tr>\n",
       "      <th>0</th>\n",
       "      <td>CST_142525</td>\n",
       "      <td>0</td>\n",
       "    </tr>\n",
       "    <tr>\n",
       "      <th>1</th>\n",
       "      <td>CST_129215</td>\n",
       "      <td>0</td>\n",
       "    </tr>\n",
       "    <tr>\n",
       "      <th>2</th>\n",
       "      <td>CST_138443</td>\n",
       "      <td>1</td>\n",
       "    </tr>\n",
       "    <tr>\n",
       "      <th>3</th>\n",
       "      <td>CST_123812</td>\n",
       "      <td>0</td>\n",
       "    </tr>\n",
       "    <tr>\n",
       "      <th>4</th>\n",
       "      <td>CST_144450</td>\n",
       "      <td>1</td>\n",
       "    </tr>\n",
       "    <tr>\n",
       "      <th>...</th>\n",
       "      <td>...</td>\n",
       "      <td>...</td>\n",
       "    </tr>\n",
       "    <tr>\n",
       "      <th>11378</th>\n",
       "      <td>CST_142412</td>\n",
       "      <td>0</td>\n",
       "    </tr>\n",
       "    <tr>\n",
       "      <th>11379</th>\n",
       "      <td>CST_107967</td>\n",
       "      <td>0</td>\n",
       "    </tr>\n",
       "    <tr>\n",
       "      <th>11380</th>\n",
       "      <td>CST_134002</td>\n",
       "      <td>0</td>\n",
       "    </tr>\n",
       "    <tr>\n",
       "      <th>11381</th>\n",
       "      <td>CST_146856</td>\n",
       "      <td>0</td>\n",
       "    </tr>\n",
       "    <tr>\n",
       "      <th>11382</th>\n",
       "      <td>CST_112001</td>\n",
       "      <td>0</td>\n",
       "    </tr>\n",
       "  </tbody>\n",
       "</table>\n",
       "<p>11383 rows × 2 columns</p>\n",
       "</div>"
      ],
      "text/plain": [
       "      customer_id  credit_card_default\n",
       "0      CST_142525                    0\n",
       "1      CST_129215                    0\n",
       "2      CST_138443                    1\n",
       "3      CST_123812                    0\n",
       "4      CST_144450                    1\n",
       "...           ...                  ...\n",
       "11378  CST_142412                    0\n",
       "11379  CST_107967                    0\n",
       "11380  CST_134002                    0\n",
       "11381  CST_146856                    0\n",
       "11382  CST_112001                    0\n",
       "\n",
       "[11383 rows x 2 columns]"
      ]
     },
     "execution_count": 34,
     "metadata": {},
     "output_type": "execute_result"
    }
   ],
   "source": [
    "# Creating a Dataframe for the model prediction values\n",
    "predicted_dataframe = pd.DataFrame(test_pred, columns = ['credit_card_default'])\n",
    "# Merging the Model Prediction values with the \"test_df\" dataframe containing the \"customer_id\" column (created in cell 2)\n",
    "test_df = pd.concat([test_df, predicted_dataframe], axis = 1)\n",
    "# Displaying the resultant dataframe to check if its as per the sample submission format\n",
    "test_df"
   ]
  },
  {
   "cell_type": "code",
   "execution_count": 35,
   "id": "2ac8a5f2",
   "metadata": {},
   "outputs": [],
   "source": [
    "# Saving the Resultant Dataframe to a .csv file for final submission and evaluation\n",
    "test_df.to_csv('K_Aditya_Submission.csv')"
   ]
  },
  {
   "cell_type": "markdown",
   "id": "25111824",
   "metadata": {},
   "source": [
    "# Conclusion\n",
    "\n",
    "The ML Models were successfully trained on the train data, tested against the validation data and used to predict the test data. The models had a Macro-F1 Score of atleast 89.6% on the test data where Random Forest gave the highest Macro-F1 score of 92.20250%.  \n",
    "However, model tuning is required for the Random Forest model as it gave a Macro-F1 score in the range between 89.6% and 92.2% on the test data when the model was re-trained and used for prediction again.  \n",
    "Future work will involve the hyperparameter tuning of the Random Forest model using techniques like GridSearchCV and also feature selection as a few columns were found to be highly correlated to each other. Ensemble Methods can also be carried out to improve the Recall value of the resultant model. The Recall value of the model for the value \"1\" of the target column is the key to having a high Macro-F1 score on the test data."
   ]
  }
 ],
 "metadata": {
  "kernelspec": {
   "display_name": "Python 3 (ipykernel)",
   "language": "python",
   "name": "python3"
  },
  "language_info": {
   "codemirror_mode": {
    "name": "ipython",
    "version": 3
   },
   "file_extension": ".py",
   "mimetype": "text/x-python",
   "name": "python",
   "nbconvert_exporter": "python",
   "pygments_lexer": "ipython3",
   "version": "3.8.5"
  }
 },
 "nbformat": 4,
 "nbformat_minor": 5
}
